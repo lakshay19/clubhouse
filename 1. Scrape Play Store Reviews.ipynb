{
 "cells": [
  {
   "cell_type": "code",
   "execution_count": 1,
   "metadata": {},
   "outputs": [],
   "source": [
    "import json\n",
    "import pandas as pd\n",
    "\n",
    "from google_play_scraper import Sort, reviews, app\n",
    "from google_play_scraper import reviews_all\n"
   ]
  },
  {
   "cell_type": "code",
   "execution_count": 2,
   "metadata": {},
   "outputs": [
    {
     "data": {
      "text/plain": [
       "{'title': 'Clubhouse: The Social Audio App',\n",
       " 'description': 'Hey! Welcome to Clubhouse — a more human place on the Internet, where people come together for great conversation.\\r\\n\\r\\nThe hallway is home to hundreds of thousands of discussions on every topic under the sun — from SCUBA diving to social justice, crypto to comic books, fashion, backpacking, Japanese language, morning news shows, meditation, movie clubs, book clubs, and so much more. It’s all unfolding in real time from all around the world.\\r\\n\\r\\nOn Clubhouse you can sit back and quietly listen, raise your hand to chime in, or host your own rooms. Whether you’re talking with your closest friends or making new ones, it’s a place where you can experience unforgettable moments with other humans, and leave feeling better than when you arrived.\\r\\n\\r\\nWe’re so excited for you to join!',\n",
       " 'descriptionHTML': 'Hey! Welcome to Clubhouse — a more human place on the Internet, where people come together for great conversation.<br><br>The hallway is home to hundreds of thousands of discussions on every topic under the sun — from SCUBA diving to social justice, crypto to comic books, fashion, backpacking, Japanese language, morning news shows, meditation, movie clubs, book clubs, and so much more. It’s all unfolding in real time from all around the world.<br><br>On Clubhouse you can sit back and quietly listen, raise your hand to chime in, or host your own rooms. Whether you’re talking with your closest friends or making new ones, it’s a place where you can experience unforgettable moments with other humans, and leave feeling better than when you arrived.<br><br>We’re so excited for you to join!',\n",
       " 'summary': 'Clubhouse is where people come together for great conversation',\n",
       " 'summaryHTML': 'Clubhouse is where people come together for great conversation',\n",
       " 'installs': '10,000,000+',\n",
       " 'minInstalls': 10000000,\n",
       " 'score': 4.5083055,\n",
       " 'ratings': 405170,\n",
       " 'reviews': 1670,\n",
       " 'histogram': [23137, 9679, 16960, 43600, 311794],\n",
       " 'price': 0,\n",
       " 'free': True,\n",
       " 'currency': 'USD',\n",
       " 'sale': False,\n",
       " 'saleTime': None,\n",
       " 'originalPrice': None,\n",
       " 'saleText': None,\n",
       " 'offersIAP': False,\n",
       " 'inAppProductPrice': None,\n",
       " 'size': '69M',\n",
       " 'androidVersion': '7.0',\n",
       " 'androidVersionText': '7.0 and up',\n",
       " 'developer': 'Alpha Exploration Co.',\n",
       " 'developerId': 'Alpha+Exploration+Co.',\n",
       " 'developerEmail': 'support@clubhouse.com',\n",
       " 'developerWebsite': 'https://www.clubhouse.com/',\n",
       " 'developerAddress': None,\n",
       " 'privacyPolicy': 'https://privacy.clubhouse.com/',\n",
       " 'developerInternalID': '4685467512313685479',\n",
       " 'genre': 'Social',\n",
       " 'genreId': 'SOCIAL',\n",
       " 'icon': 'https://play-lh.googleusercontent.com/LiGfuFnqNLocSpsQCtOuNSb_h05yaWgfhXDxoKNR43v2DnnC0LmVQ8tQDNR-DaSz94A',\n",
       " 'headerImage': 'https://play-lh.googleusercontent.com/Z2kuA0R9gam08gCLf9Akc21BUsqQeG0_VrDm2AYYJZHdLxqHiBKzMzH2CmMlqbXAOLU',\n",
       " 'screenshots': ['https://play-lh.googleusercontent.com/qMmozGvD7mFaGBnaav-xZLkJCyrBGu3sIKnsGxcCtjxjU7XH-pfqovxW28R6kVDitnd7',\n",
       "  'https://play-lh.googleusercontent.com/Q-2NxvEeyyfRrhmKZd9t3c0aHXzlxheBktXJ4Bhnr5MaOokPos0jKWwpNwejX7bLf0U',\n",
       "  'https://play-lh.googleusercontent.com/up2I6_578ty8u-1ZCq7Cpr6Rn8v6jCrQg01jSPmSJkuu8qvvCuZU_oVqSyMrmTel-A',\n",
       "  'https://play-lh.googleusercontent.com/PQTQ6YyBA_XxI-ID4ZNC6mzZ1Dk8ymSC-KKjTgeWZVWuIO_YYFoML9PBot8stt6OzDk',\n",
       "  'https://play-lh.googleusercontent.com/0pxmVUVEEVkwvJMN7DyDwzAvAG9d6mCYw6sBougyqsbHuue4bqZP17ihHdBJHGpQ1Y4',\n",
       "  'https://play-lh.googleusercontent.com/wWCJC89GflsEyFU-8BKKRZoERMauVGYL11ICa1FiX9UF0Tt3dxD_cU79egkKnXl3tHE',\n",
       "  'https://play-lh.googleusercontent.com/MoTP86XZO2HpmmHHIqi1IAq_ySBkqxyH9FLQWgKewqM62CAk9EDc775-iZPF_F4wGHc',\n",
       "  'https://play-lh.googleusercontent.com/X-ERWr7JZIhgV3WVi6GFI3UGNJetxUnqkDC-sPx_toqFQddGIC2D57PSpomKIC2jgw',\n",
       "  'https://play-lh.googleusercontent.com/MeNa6eYu_xO7qnduc5fDTrx-ZCSxEk4tUiefGFDwHcRtp54cUC_dluP-3jyMGeB1E24',\n",
       "  'https://play-lh.googleusercontent.com/PUgGWN58Tf3bLYmJNJMYc3cnE9i5QSyygzuqfGMr_BQqZzDMFAPoh3ZdwcsV9abxYDRM',\n",
       "  'https://play-lh.googleusercontent.com/CZgCrIAfRnHCxr0Gh0FHNhufbEMJKmLV7NxThpGLTWRjkC3HHDVFd9J6RamiAVmLayY',\n",
       "  'https://play-lh.googleusercontent.com/0KWdlJauFYNCmU2DSKcNKVmF0drhN5diKU3j0Oj6Ob9Pk-ebAnlwC3IYjJODuQbArQ'],\n",
       " 'video': None,\n",
       " 'videoImage': None,\n",
       " 'contentRating': 'Teen',\n",
       " 'contentRatingDescription': None,\n",
       " 'adSupported': None,\n",
       " 'containsAds': False,\n",
       " 'released': 'May 20, 2021',\n",
       " 'updated': 1638407346,\n",
       " 'version': '1.0.14',\n",
       " 'recentChanges': 'https://clubhouse.com/whatsnew-android',\n",
       " 'recentChangesHTML': 'https://clubhouse.com/whatsnew-android',\n",
       " 'comments': [\"Best social media app yet. It's a place to meet interesting people from all over the world and build REAL community. Your experience will depend on the rooms you choose to hang out in. Choose wisely. Only 4 stars because it's a bit buggy sometimes and therefore has room for improvement. But it's a great experience most of the time.\",\n",
       "  'Terrible. Didn\\'t ho beyond sign-in page. Got the verification call, and I didn\\'t pick it as advised. However, the page never \"processed\" and it just kept telling me to sign in with my phone number over and over again and kept sending verification calls over and over again. Terrible loop. Waste of time Revoking all permissions and uninstalling.',\n",
       "  'I constantly have problems with this app, such as joining rooms, being kicked out of rooms, error messages etc. Now it\\'s saying \"there was an error. Please try again\". I uninstalled and am trying to log back in but it\\'s still giving the same error message and not allowing me to do so.',\n",
       "  \"Needs some work .. 1. a hand raising options or reaction icons so folks don't always talk over each other when in rooms or just want to react and support each other 2. you should be able to preview a room without joining it after selecting it 3. Your mic should be muted by default when you join ... Otherwise cool.\",\n",
       "  'An okay app, works great for having conversations. Says I can link my social media to it but either gives error message or completely crashes when I attempt to do so',\n",
       "  'not good . Disappointed . Reason - user is not provided with control on this app .once user logs in unwanted chat rooms shows up ..my audience were afraid to join the event as well . trust me .you wanna improvise .pls work on controlling unwanted chat rooms',\n",
       "  'The notifications are so intrusive that you reached the exact opposite, I blocked them all for the app from the system. Such a Shame nowadays If you do not fix it next step will be Uninstall !',\n",
       "  'WAS LOVING THIS APP BUT CAN NO LONGER USE. THERE IS NO AUDIO IN THE ROOMS. I HAVE TRIED CLEARING OUT DATA & CACHE, UPDATED, UNINSTALL AND REINSTALL. STILL NO SOUND. PLEASE FIX.',\n",
       "  \"The different dynamic conversations and healing that is going on is amazing. This platform has a station for everyone. Let's get speaking our emotions. Check out HEALING WITH POETRY 🙏🏽🙏🏽🙏🏽☔💙\",\n",
       "  \"Needs a live text chat for people not on the stage or who don't want to be on the stage. Otherwise I love it. Where the hell is my other review? 🤔\",\n",
       "  'keeps giving me this error message \" Clubhouse keeps stopping \" 1)app info 2)Close app 3) send feedback how do you fix this problem on a PC Not a Android please help !!!!!!!!',\n",
       "  \"It's like talking (or listening) on the phone to a ton of people. It's awesome. However, there are issues like you end up liking different clubs, none of the clubs that you liked are in the feed, it's all new clubs that you've never heard of. You would think they would put only the clubs you like in the feed, but they rarely do. Also, the rooms freeze on occasion. Also, someone can add you as a host when, at times, you just want to listen & have no interest in being a host.\",\n",
       "  \"Since the latest update, app keeps saying there is a problem and freezing. I logged out and now can't get back in.\",\n",
       "  \"It's a good app and a way for people to discuss interesting topics. I've been on it for a week and it freezes sometimes and I can't enter in. Also I think they should add more features. Where room leads and moderators can set up lines for people to talk. Or icons where people can communicate on there picture. It's annoying when 30 people start to speak all at once. Some rooms are controlled than others but there needs to be some tools to help order.\",\n",
       "  \"No sounds:Great topics and pictures, I have installed and uninstalled several times hoping to finally hear someone even updated. I don't hear anything, not one word. The Mic may be there sometime but not all the time but it doesn't even matter if it's there because it's simply no sound of information. I would like this issue to be resolved. I want to hear\",\n",
       "  'The app is a great idea I made some friends and learned few things on the way, however every now and then a hacker end up hijacking the room and cursing at everyone. Not to mention all the hate speech, harassment, and violent language that you would encounter from the hackers. The issue been going on for a while and sometimes I be listening to music on clubhouse with family around me and someone end up ruining the mood and forcing us to hear some inappropriate language.',\n",
       "  'Continuous updates, intuitive, simple, socially addictive, still needs dark mode ;}',\n",
       "  \"I have been trying to talk to my friends with the headphones connected and I have bought the new pair of headphones as well. But they can't hear me well enough until or unless the phone is on speaker or is not connected to any wireless headsets or with headphones. Please kindly fix the bug. I need to use the headphones for this app. They can't hear me well. Thanks\",\n",
       "  \"So many Bluetooth issues where the sound stays on the phone. Twitter places doesn't have that issue\",\n",
       "  'This app needs a dark mode, no way to change the bright screen texture without changing screen brightness manually which throws off my other apps',\n",
       "  \"I can't even sign up. I tried my work mobile number (because we were signing up for our own group), and requested Verification Code 3 times... tried to go back and use my personal number, and now the app just crashes my phone entirely. 😖 That this registration process only goes by phone number seems very insecure overall... I'm also very disheartened by the number of reviews saying that people have easily hacked into their rooms and caused problems.\",\n",
       "  \"Just too many notifications. How come I have to get notifications if anyone I follow starts a room? And I put Send fewer notifications on. Why can't I choose to only get notifications for events that are important to me, and I explicitly put them on for? Now I have to switch off all notifications from Clubhouse. It doesn't benefit me. And it doesn't benefit you. Pretty sure a lot 9f people are doing this. We have other things to do than to be on Clubhouse all the time...\",\n",
       "  'I can\\'t get in. It keeps saying \"error..try again.\" -- It\\'s frustrating.',\n",
       "  \"I am a podcaster and this is a ingenious idea but the problem with it I don't know if this happens only on the Android phone but I will open the app and can not HEAR the conversation this has happened more then once I tried every way to trouble shoot it 1 clearing the cash 2 updated the app 3 when that did open up took it off put it back on nothing.. It has a notication saying your audio is on mute and have to ask the mod for or omission but that not the mute I mean I can't hear the speakers\",\n",
       "  'iPhone to Android. I initially set up my my clubhouse account using an iPhone / phone number I no longer have access too. I would like to replace the old number associated with this account with my permanent number. Unlike nearly every app on the planet, there is no way to update this. Nowhere in clubhouse set up did it state that accessing the app on a different device would hinge on keeping a number someone may lose. Beware your account is TIED to your phone number. DELETE',\n",
       "  'Basically a bunch of people self-promoting themselves or others\\' businesses. Some rooms about extremely shallow topics. No intelligent discussions whatsoever. If you want to hear people meaninglessly throwing empty compliments at each other in rooms with titles like \"Future of AI\" or get yelled at for quoting scientific data in rooms where that\\'s clearly not allowed like \"is privilege real\", then get this app. I think it\\'s the absolute worst of humanity. But you know, it is fast.',\n",
       "  \"Can't Search, App keeps Stopping everything I attempt to use the search bar! I've uninstalled and reinstalled, cleared the cache, updated, found videos on common solutions for the issue....nothing worked. I love clubhouse, I'm a new user..it's great but I can't navigate through it now. 😢\",\n",
       "  \"Great idea for an app. This app works great and is perfect for getting the average person's opinion on various subjects. It's also great for the professional driver and the insomniac.\",\n",
       "  \"So informative and so powerful if you find what you are seeking and tune in to learn, there's so much knowledge and a plethora of wisdom givers on this app. You will find your tribe INDEED! I feel so blessed to have tuned in to the beautiful conversations that were shared today. Peace and love 💕😘 y'all 🙏🏾👍🏾💕🌻💋😘\",\n",
       "  'I like the app a lot. The problem is that when I use headphones people always complain that my voice is too quiet. This is not a problem in other apps. Please fix this already',\n",
       "  'Best app ever. No more keyboard warriors now. I love talking and listening to others. You can hear emotions and expressions.',\n",
       "  \"I can't hear a thing I could hear and speak before I updated the app but after the update I haven't been able to hear anything since and it's very annoying\",\n",
       "  'I think Clubhouse will be better if there are buttons for reactions such as smiles, agreement, thumbs down so that people who are not speakers can atleast participate in discussion with none verbal cues...',\n",
       "  \"It wouldn't let me sign up, when I put my phone number it just says error. No different buttons nothing.\",\n",
       "  'Your number is tethered to your account, once you lose your number your account is obsolete. Just ridiculous.',\n",
       "  'I think club House is a great way to socialize with others around the world and get their opinions on different topics and also voice yours as well so clubhouse I feel like will be one of social media tools that will last for a very long time',\n",
       "  'Everytime I go on to the stage my Bluetooth headset stops working and sound comes out of my phone instead of ear piece on samsung S20',\n",
       "  \"I thought this was a talk clubhouse. I've heard nothing so far except a few little enter and leave cheep sounds. I don't even know enough yet to be dangerous. It would be nice if there was hands on deck to let me know how to hear the conversations.\",\n",
       "  'After login, it exits quickly and says to try again. Nonsense in all senses.',\n",
       "  \"love it can't figure out how to mute myself yet! but over all great platform get discussions easy to use!\"],\n",
       " 'editorsChoice': False,\n",
       " 'similarApps': ['com.qhqc.starvoice',\n",
       "  'com.maverick.lobby',\n",
       "  'com.askfm',\n",
       "  'younow.live',\n",
       "  'com.loka'],\n",
       " 'moreByDeveloper': None,\n",
       " 'appId': 'com.clubhouse.app',\n",
       " 'url': 'https://play.google.com/store/apps/details?id=com.clubhouse.app&hl=en&gl=us'}"
      ]
     },
     "execution_count": 2,
     "metadata": {},
     "output_type": "execute_result"
    }
   ],
   "source": [
    "ap = 'com.clubhouse.app'\n",
    "info = app(ap, lang='en', country='us')\n",
    "#del info['comments']\n",
    "info"
   ]
  },
  {
   "cell_type": "code",
   "execution_count": 3,
   "metadata": {},
   "outputs": [],
   "source": [
    "\n",
    "rvws, token = reviews(\n",
    "        'com.clubhouse.app', # app's ID, found in app's url\n",
    "        lang='en',            # defaults to 'en'\n",
    "        country='us',         # defaults to 'us'\n",
    "        sort=Sort.NEWEST,     # defaults to Sort.MOST_RELEVANT\n",
    "        #filter_score_with=5,  # defaults to None (get all scores)\n",
    "        count=10000000             # defaults to 100\n",
    "        # , continuation_token=token\n",
    "    )\n"
   ]
  },
  {
   "cell_type": "code",
   "execution_count": 4,
   "metadata": {},
   "outputs": [
    {
     "name": "stdout",
     "output_type": "stream",
     "text": [
      "29432\n"
     ]
    }
   ],
   "source": [
    "print(len(rvws))"
   ]
  },
  {
   "cell_type": "code",
   "execution_count": 5,
   "metadata": {},
   "outputs": [
    {
     "data": {
      "text/plain": [
       "{'reviewId': 'gp:AOqpTOH5arMLueuSroZeZaw5qQvSVeqg9GaE4QXXc9Ztl3VWqLh7STiM-Q_KU_eG2mZWJ69f8ng7hnx89okySw',\n",
       " 'userName': 'David Carr',\n",
       " 'userImage': 'https://play-lh.googleusercontent.com/a-/AOh14Gg381ACUgvp7wxmdcHhd7EHXbrpETrDv6Jsn1KuIas',\n",
       " 'content': 'So excited to have Clubhouse on Android!',\n",
       " 'score': 5,\n",
       " 'thumbsUpCount': 3,\n",
       " 'reviewCreatedVersion': None,\n",
       " 'at': datetime.datetime(2021, 5, 20, 19, 28, 51),\n",
       " 'replyContent': None,\n",
       " 'repliedAt': None}"
      ]
     },
     "execution_count": 5,
     "metadata": {},
     "output_type": "execute_result"
    }
   ],
   "source": [
    "rvws[-1]"
   ]
  },
  {
   "cell_type": "code",
   "execution_count": 6,
   "metadata": {},
   "outputs": [
    {
     "data": {
      "text/plain": [
       "(29432, 10)"
      ]
     },
     "execution_count": 6,
     "metadata": {},
     "output_type": "execute_result"
    }
   ],
   "source": [
    "df = pd.DataFrame.from_dict(rvws, orient='columns')\n",
    "df.shape"
   ]
  },
  {
   "cell_type": "code",
   "execution_count": 7,
   "metadata": {},
   "outputs": [
    {
     "data": {
      "text/html": [
       "<div>\n",
       "<style scoped>\n",
       "    .dataframe tbody tr th:only-of-type {\n",
       "        vertical-align: middle;\n",
       "    }\n",
       "\n",
       "    .dataframe tbody tr th {\n",
       "        vertical-align: top;\n",
       "    }\n",
       "\n",
       "    .dataframe thead th {\n",
       "        text-align: right;\n",
       "    }\n",
       "</style>\n",
       "<table border=\"1\" class=\"dataframe\">\n",
       "  <thead>\n",
       "    <tr style=\"text-align: right;\">\n",
       "      <th></th>\n",
       "      <th>reviewId</th>\n",
       "      <th>userName</th>\n",
       "      <th>userImage</th>\n",
       "      <th>content</th>\n",
       "      <th>score</th>\n",
       "      <th>thumbsUpCount</th>\n",
       "      <th>reviewCreatedVersion</th>\n",
       "      <th>at</th>\n",
       "      <th>replyContent</th>\n",
       "      <th>repliedAt</th>\n",
       "    </tr>\n",
       "  </thead>\n",
       "  <tbody>\n",
       "    <tr>\n",
       "      <th>0</th>\n",
       "      <td>gp:AOqpTOHn7HkY6KRfT15XZi3K3JUg_tkA6AKg8vgz4aQ...</td>\n",
       "      <td>Sakthi Vel</td>\n",
       "      <td>https://play-lh.googleusercontent.com/a-/AOh14...</td>\n",
       "      <td>ok</td>\n",
       "      <td>5</td>\n",
       "      <td>0</td>\n",
       "      <td>1.0.18</td>\n",
       "      <td>2021-12-06 13:09:48</td>\n",
       "      <td>None</td>\n",
       "      <td>NaT</td>\n",
       "    </tr>\n",
       "    <tr>\n",
       "      <th>1</th>\n",
       "      <td>gp:AOqpTOHwyiHXO-Q-GgV3NewuTWpDFFELLgN6xr2aCVv...</td>\n",
       "      <td>Asmadeus maichen</td>\n",
       "      <td>https://play-lh.googleusercontent.com/a/AATXAJ...</td>\n",
       "      <td>Dont allow below 18 people to club house ..</td>\n",
       "      <td>1</td>\n",
       "      <td>0</td>\n",
       "      <td>None</td>\n",
       "      <td>2021-12-06 12:04:42</td>\n",
       "      <td>None</td>\n",
       "      <td>NaT</td>\n",
       "    </tr>\n",
       "    <tr>\n",
       "      <th>2</th>\n",
       "      <td>gp:AOqpTOFbtOrYMLgX0E1CoBOAq_uvP8KnesdaPI75zsw...</td>\n",
       "      <td>Saher Sinha</td>\n",
       "      <td>https://play-lh.googleusercontent.com/a/AATXAJ...</td>\n",
       "      <td>Damn 👍🏻😊</td>\n",
       "      <td>5</td>\n",
       "      <td>0</td>\n",
       "      <td>None</td>\n",
       "      <td>2021-12-06 11:46:56</td>\n",
       "      <td>None</td>\n",
       "      <td>NaT</td>\n",
       "    </tr>\n",
       "    <tr>\n",
       "      <th>3</th>\n",
       "      <td>gp:AOqpTOFN6VYuEkg0FmKvENZiyFire8ysV98SssFUPeu...</td>\n",
       "      <td>jD</td>\n",
       "      <td>https://play-lh.googleusercontent.com/a-/AOh14...</td>\n",
       "      <td>Simply i gave this team 5 star rating</td>\n",
       "      <td>5</td>\n",
       "      <td>0</td>\n",
       "      <td>1.0.18</td>\n",
       "      <td>2021-12-06 11:42:16</td>\n",
       "      <td>None</td>\n",
       "      <td>NaT</td>\n",
       "    </tr>\n",
       "    <tr>\n",
       "      <th>4</th>\n",
       "      <td>gp:AOqpTOEGc1nNX5RFp7TNcICBA3oaUaZYtaTJZCK_I8P...</td>\n",
       "      <td>Seyed Mahdi Hashemi</td>\n",
       "      <td>https://play-lh.googleusercontent.com/a-/AOh14...</td>\n",
       "      <td>I have an acount but i cant sign in. its a bug...</td>\n",
       "      <td>1</td>\n",
       "      <td>0</td>\n",
       "      <td>1.0.16</td>\n",
       "      <td>2021-12-06 11:36:06</td>\n",
       "      <td>None</td>\n",
       "      <td>NaT</td>\n",
       "    </tr>\n",
       "  </tbody>\n",
       "</table>\n",
       "</div>"
      ],
      "text/plain": [
       "                                            reviewId             userName  \\\n",
       "0  gp:AOqpTOHn7HkY6KRfT15XZi3K3JUg_tkA6AKg8vgz4aQ...           Sakthi Vel   \n",
       "1  gp:AOqpTOHwyiHXO-Q-GgV3NewuTWpDFFELLgN6xr2aCVv...     Asmadeus maichen   \n",
       "2  gp:AOqpTOFbtOrYMLgX0E1CoBOAq_uvP8KnesdaPI75zsw...          Saher Sinha   \n",
       "3  gp:AOqpTOFN6VYuEkg0FmKvENZiyFire8ysV98SssFUPeu...                   jD   \n",
       "4  gp:AOqpTOEGc1nNX5RFp7TNcICBA3oaUaZYtaTJZCK_I8P...  Seyed Mahdi Hashemi   \n",
       "\n",
       "                                           userImage  \\\n",
       "0  https://play-lh.googleusercontent.com/a-/AOh14...   \n",
       "1  https://play-lh.googleusercontent.com/a/AATXAJ...   \n",
       "2  https://play-lh.googleusercontent.com/a/AATXAJ...   \n",
       "3  https://play-lh.googleusercontent.com/a-/AOh14...   \n",
       "4  https://play-lh.googleusercontent.com/a-/AOh14...   \n",
       "\n",
       "                                             content  score  thumbsUpCount  \\\n",
       "0                                                 ok      5              0   \n",
       "1        Dont allow below 18 people to club house ..      1              0   \n",
       "2                                           Damn 👍🏻😊      5              0   \n",
       "3              Simply i gave this team 5 star rating      5              0   \n",
       "4  I have an acount but i cant sign in. its a bug...      1              0   \n",
       "\n",
       "  reviewCreatedVersion                  at replyContent repliedAt  \n",
       "0               1.0.18 2021-12-06 13:09:48         None       NaT  \n",
       "1                 None 2021-12-06 12:04:42         None       NaT  \n",
       "2                 None 2021-12-06 11:46:56         None       NaT  \n",
       "3               1.0.18 2021-12-06 11:42:16         None       NaT  \n",
       "4               1.0.16 2021-12-06 11:36:06         None       NaT  "
      ]
     },
     "execution_count": 7,
     "metadata": {},
     "output_type": "execute_result"
    }
   ],
   "source": [
    "df.head()"
   ]
  },
  {
   "cell_type": "code",
   "execution_count": null,
   "metadata": {},
   "outputs": [],
   "source": [
    "df.to_csv('reviews.csv')"
   ]
  }
 ],
 "metadata": {
  "kernelspec": {
   "display_name": "Python 3",
   "language": "python",
   "name": "python3"
  },
  "language_info": {
   "codemirror_mode": {
    "name": "ipython",
    "version": 3
   },
   "file_extension": ".py",
   "mimetype": "text/x-python",
   "name": "python",
   "nbconvert_exporter": "python",
   "pygments_lexer": "ipython3",
   "version": "3.8.3"
  }
 },
 "nbformat": 4,
 "nbformat_minor": 4
}
